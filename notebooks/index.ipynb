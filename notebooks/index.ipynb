{
 "cells": [
  {
   "cell_type": "markdown",
   "metadata": {},
   "source": [
    "# River, Coastal and Estuarine Morphodynamics Symposium\n",
    "\n",
    "## Day 2: The Python Modeling Toolkit (*pymt*)\n",
    "\n",
    "Today we will explore through a series of *Jupyter* notebooks how to use the Python Modeling Toolkit run and couple models.\n",
    "\n",
    "*  [Introduction to *pymt*](intro.ipynb)\n",
    "   * [Why use *pymt*?](intro.ipynb#why-pymt?)\n",
    "   * [The *pymt* library of models](intro.ipynb#The-pymt-model-library)\n",
    "   * [Setting up a model simulation](intro.ipynb#Setup)\n",
    "   * [Initialize, Run, Finalize](intro.ipynb#The-lifecycle-of-a-model)\n",
    "   * Getting data out of a model\n",
    "\n",
    "*  [Run a standalone model in *pymt*](hydrotrend.ipynb)\n",
    "   * [Introduction to Hydrotrend](hydrotrend.ipynb#HydroTrend)\n",
    "   * [Setup + Run + analyze](hydrotrend.ipynb#Exercise-1)\n",
    "   * [Adjust for a changing climate](hydrotrend.ipynb#Exercise-2)\n",
    "   * [Adjust for human impact](hydrotrend.ipynb#Exercise-3)\n",
    "\n",
    "*  [Couple two models](cem_and_waves.ipynb)\n",
    "   * Introduction to CEM + Waves\n",
    "   * Setup a simulation\n",
    "   * Getter and setters\n",
    "   * Run\n",
    "   * Grids\n",
    "   * Plot + analyze output\n",
    "\n",
    "*  [Putting it all together](cem_and_waves_and_hydrotrend.ipynb)\n",
    "   * Matching input/output variables\n",
    "\n",
    "Additional notebooks:\n",
    "  * [Flexural Subsidence Model](subside.ipynb)   \n",
    "  * [ECSimpleSnow component](ecsimplesnow.ipynb)\n",
    "  * [Frost Number Model](frost_number.ipynb)\n",
    "  * [Kudryavtsev Model](ku.ipynb)\n"
   ]
  },
  {
   "cell_type": "code",
   "execution_count": null,
   "metadata": {},
   "outputs": [],
   "source": []
  }
 ],
 "metadata": {
  "kernelspec": {
   "display_name": "Python 3",
   "language": "python",
   "name": "python3"
  },
  "language_info": {
   "codemirror_mode": {
    "name": "ipython",
    "version": 3
   },
   "file_extension": ".py",
   "mimetype": "text/x-python",
   "name": "python",
   "nbconvert_exporter": "python",
   "pygments_lexer": "ipython3",
   "version": "3.7.3"
  }
 },
 "nbformat": 4,
 "nbformat_minor": 2
}
